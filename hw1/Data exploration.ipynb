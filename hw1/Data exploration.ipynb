{
 "cells": [
  {
   "cell_type": "code",
   "execution_count": 109,
   "metadata": {},
   "outputs": [],
   "source": [
    "import pdb\n",
    "\n",
    "from decomp import UDSCorpus\n",
    "from tqdm import tqdm"
   ]
  },
  {
   "cell_type": "code",
   "execution_count": 46,
   "metadata": {},
   "outputs": [
    {
     "name": "stdout",
     "output_type": "stream",
     "text": [
      "CPU times: user 12.1 s, sys: 2.57 s, total: 14.6 s\n",
      "Wall time: 14.6 s\n"
     ]
    }
   ],
   "source": [
    "%time uds = UDSCorpus(split='train', version='1.0')"
   ]
  },
  {
   "cell_type": "code",
   "execution_count": 173,
   "metadata": {},
   "outputs": [],
   "source": [
    "uds_first1000 = {}\n",
    "\n",
    "for i, (k, v) in enumerate(uds.items()):\n",
    "    if i >= 1000:\n",
    "        break\n",
    "    uds_first1000[k] = v"
   ]
  },
  {
   "cell_type": "markdown",
   "metadata": {},
   "source": [
    "## Data explorarion"
   ]
  },
  {
   "cell_type": "markdown",
   "metadata": {},
   "source": [
    "In this homework we will build binary classifiers for five different semantic roles, using UDS dataset:\n",
    "* `AGENT`\n",
    "* `PATIENT`\n",
    "* `THEME`\n",
    "* `INSTRUMENT`\n",
    "* `BENEFICIARY`"
   ]
  },
  {
   "cell_type": "markdown",
   "metadata": {},
   "source": [
    "Formally, we define these roles in terms of UDS properties in the following way:"
   ]
  },
  {
   "cell_type": "markdown",
   "metadata": {},
   "source": [
    "`AGENT := ((volition > 0) ∨ (instigation > 0)) ∧ (existed_before > 0)`\n",
    "\n",
    "`PATIENT := (volition < 0) ∧ (instigation < 0) ∧ (change_of_state > 0)`\n",
    "\n",
    "`THEME := (volition < 0) ∧ (instigation < 0) ∧ (change_of_state < 0)`\n",
    "\n",
    "`INSTRUMENT := (was_used > 0) ∧ (existed_during > 0) ∧ (volition < 0)`\n",
    "\n",
    "`BENEFICIARY := (instigation < 0) ∧ (was_for_benefit > 0)`"
   ]
  },
  {
   "cell_type": "code",
   "execution_count": 175,
   "metadata": {},
   "outputs": [],
   "source": [
    "agent_query_str = \"\"\"\n",
    "                   SELECT ?edge\n",
    "                   WHERE { ?pred ?edge ?arg ;\n",
    "                                 <domain> <semantics> ;\n",
    "                                 <type>   <predicate> ;\n",
    "                           { ?edge <existed_before> ?existed_before\n",
    "                                   FILTER ( ?existed_before > 0 )\n",
    "                           }\n",
    "                           { ?edge <volition> ?volition\n",
    "                                   FILTER ( ?volition > 0 )\n",
    "                           } UNION\n",
    "                           { ?edge <instigation> ?instigation\n",
    "                                   FILTER ( ?instigation > 0 )\n",
    "                           }\n",
    "                         }\n",
    "                   \"\"\""
   ]
  },
  {
   "cell_type": "code",
   "execution_count": 176,
   "metadata": {},
   "outputs": [],
   "source": [
    "patient_query_str = \"\"\"\n",
    "                   SELECT ?edge\n",
    "                   WHERE { ?pred ?edge ?arg ;\n",
    "                                 <domain> <semantics> ;\n",
    "                                 <type>   <predicate> ;\n",
    "                           { ?edge <change_of_state> ?change_of_state\n",
    "                                   FILTER ( ?change_of_state > 0 )\n",
    "                           }\n",
    "                           { ?edge <volition> ?volition\n",
    "                                   FILTER ( ?volition < 0 )\n",
    "                           }\n",
    "                           { ?edge <instigation> ?instigation\n",
    "                                   FILTER ( ?instigation < 0 )\n",
    "                           }\n",
    "                         }\n",
    "                   \"\"\""
   ]
  },
  {
   "cell_type": "code",
   "execution_count": 185,
   "metadata": {},
   "outputs": [],
   "source": [
    "theme_query_str = \"\"\"\n",
    "                   SELECT ?edge\n",
    "                   WHERE { ?pred ?edge ?arg ;\n",
    "                                 <domain> <semantics> ;\n",
    "                                 <type>   <predicate> ;\n",
    "                           { ?edge <change_of_state> ?change_of_state\n",
    "                                   FILTER ( ?change_of_state < 0 )\n",
    "                           }\n",
    "                           { ?edge <volition> ?volition\n",
    "                                   FILTER ( ?volition < 0 )\n",
    "                           }\n",
    "                           { ?edge <instigation> ?instigation\n",
    "                                   FILTER ( ?instigation < 0 )\n",
    "                           }\n",
    "                         }\n",
    "                   \"\"\""
   ]
  },
  {
   "cell_type": "code",
   "execution_count": 189,
   "metadata": {},
   "outputs": [],
   "source": [
    "instrument_query_str = \"\"\"\n",
    "                   SELECT ?edge\n",
    "                   WHERE { ?pred ?edge ?arg ;\n",
    "                                 <domain> <semantics> ;\n",
    "                                 <type>   <predicate> ;\n",
    "                           { ?edge <was_used> ?was_used\n",
    "                                   FILTER ( ?was_used > 0 )\n",
    "                           }\n",
    "                           { ?edge <existed_during> ?existed_during\n",
    "                                   FILTER ( ?existed_during > 0 )\n",
    "                           }\n",
    "                           { ?edge <volition> ?volition\n",
    "                                   FILTER ( ?volition < 0 )\n",
    "                           }\n",
    "                         }\n",
    "                   \"\"\""
   ]
  },
  {
   "cell_type": "code",
   "execution_count": 190,
   "metadata": {},
   "outputs": [],
   "source": [
    "beneficiary_query_str = \"\"\"\n",
    "                   SELECT ?edge\n",
    "                   WHERE { ?pred ?edge ?arg ;\n",
    "                                 <domain> <semantics> ;\n",
    "                                 <type>   <predicate> ;\n",
    "                           { ?edge <instigation> ?instigation\n",
    "                                   FILTER ( ?instigation < 0 )\n",
    "                           }\n",
    "                           { ?edge <was_for_benefit> ?was_for_benefit\n",
    "                                   FILTER ( ?was_for_benefit > 0 )\n",
    "                           }\n",
    "                         }\n",
    "                   \"\"\""
   ]
  },
  {
   "cell_type": "code",
   "execution_count": 179,
   "metadata": {},
   "outputs": [],
   "source": [
    "cause_query_str = \"\"\"\n",
    "                   SELECT ?edge\n",
    "                   WHERE { ?pred ?edge ?arg ;\n",
    "                                 <domain> <semantics> ;\n",
    "                                 <type>   <predicate> ;\n",
    "                           { ?edge <sentient> ?sentient\n",
    "                                   FILTER ( ?sentient < 0 )\n",
    "                           }\n",
    "                           { ?edge <instigation> ?instigation\n",
    "                                   FILTER ( ?instigation > 0 )\n",
    "                           }\n",
    "                         }\n",
    "                   \"\"\""
   ]
  },
  {
   "cell_type": "code",
   "execution_count": 180,
   "metadata": {},
   "outputs": [
    {
     "name": "stdout",
     "output_type": "stream",
     "text": [
      "374\n",
      "CPU times: user 46 s, sys: 0 ns, total: 46 s\n",
      "Wall time: 46 s\n"
     ]
    }
   ],
   "source": [
    "%%time\n",
    "\n",
    "agent_results = {gid: graph.query(agent_query_str, query_type='edge', cache_rdf=False)\n",
    "                 for gid, graph in uds_first1000.items()}\n",
    "\n",
    "print(sum(len(v) for v in agent_results.values()))"
   ]
  },
  {
   "cell_type": "code",
   "execution_count": 181,
   "metadata": {},
   "outputs": [
    {
     "name": "stdout",
     "output_type": "stream",
     "text": [
      "64\n",
      "CPU times: user 44.1 s, sys: 0 ns, total: 44.1 s\n",
      "Wall time: 44.1 s\n"
     ]
    }
   ],
   "source": [
    "%%time\n",
    "\n",
    "patient_results = {gid: graph.query(patient_query_str, query_type='edge', cache_rdf=False)\n",
    "                   for gid, graph in uds_first1000.items()}\n",
    "\n",
    "print(sum(len(v) for v in patient_results.values()))"
   ]
  },
  {
   "cell_type": "code",
   "execution_count": 186,
   "metadata": {},
   "outputs": [
    {
     "name": "stdout",
     "output_type": "stream",
     "text": [
      "104\n",
      "CPU times: user 46.4 s, sys: 10.1 ms, total: 46.4 s\n",
      "Wall time: 46.4 s\n"
     ]
    }
   ],
   "source": [
    "%%time\n",
    "\n",
    "theme_results = {gid: graph.query(theme_query_str, query_type='edge', cache_rdf=False)\n",
    "                   for gid, graph in uds_first1000.items()}\n",
    "\n",
    "print(sum(len(v) for v in theme_results.values()))"
   ]
  },
  {
   "cell_type": "code",
   "execution_count": 191,
   "metadata": {},
   "outputs": [
    {
     "name": "stdout",
     "output_type": "stream",
     "text": [
      "164\n",
      "CPU times: user 43.9 s, sys: 3.87 ms, total: 43.9 s\n",
      "Wall time: 43.9 s\n"
     ]
    }
   ],
   "source": [
    "%%time\n",
    "\n",
    "instrument_results = {gid: graph.query(instrument_query_str, query_type='edge', cache_rdf=False)\n",
    "                      for gid, graph in uds_first1000.items()}\n",
    "\n",
    "print(sum(len(v) for v in instrument_results.values()))"
   ]
  },
  {
   "cell_type": "code",
   "execution_count": 192,
   "metadata": {},
   "outputs": [
    {
     "name": "stdout",
     "output_type": "stream",
     "text": [
      "42\n",
      "CPU times: user 45.7 s, sys: 24.6 ms, total: 45.7 s\n",
      "Wall time: 45.7 s\n"
     ]
    }
   ],
   "source": [
    "%%time\n",
    "\n",
    "beneficiary_results = {gid: graph.query(beneficiary_query_str, query_type='edge', cache_rdf=False)\n",
    "                      for gid, graph in uds_first1000.items()}\n",
    "\n",
    "print(sum(len(v) for v in beneficiary_results.values()))"
   ]
  },
  {
   "cell_type": "markdown",
   "metadata": {},
   "source": [
    "---"
   ]
  }
 ],
 "metadata": {
  "kernelspec": {
   "display_name": "Event Semantics",
   "language": "python",
   "name": "event-sem-class"
  },
  "language_info": {
   "codemirror_mode": {
    "name": "ipython",
    "version": 3
   },
   "file_extension": ".py",
   "mimetype": "text/x-python",
   "name": "python",
   "nbconvert_exporter": "python",
   "pygments_lexer": "ipython3",
   "version": "3.8.8"
  }
 },
 "nbformat": 4,
 "nbformat_minor": 4
}
